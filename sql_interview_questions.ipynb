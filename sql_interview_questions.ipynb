{
 "cells": [
  {
   "cell_type": "markdown",
   "metadata": {},
   "source": [
    "8.1 FACEBOOK: Assume you have the below events table on app analytics. Write a query to get the clickthrough rate per app in 2019.\n",
    "\n",
    "events:\n",
    "| column_name | type |\n",
    "|-------------|------|\n",
    "| app_id | integer|\n",
    "| event_id | string('impression', 'click') |\n",
    "| timestamp | datetime |"
   ]
  },
  {
   "cell_type": "code",
   "execution_count": null,
   "metadata": {
    "vscode": {
     "languageId": "sql"
    }
   },
   "outputs": [],
   "source": [
    "-----------------\n",
    "-- MY SOLUTION --\n",
    "-----------------\n",
    "\n",
    "-- first question: how many impressions were there\n",
    "-- filter by date in 2019\n",
    "-- group by app_id\n",
    "\n",
    "SELECT COUNT(event_id)\n",
    "  FROM events\n",
    "  GROUP BY app_id\n",
    "  HAVING event_id = 'impression'\n",
    "     AND timestamp BETWEEN 2019-01-01 AND 2019-12-31\n",
    "\n",
    "-- second quetion: how many clicks were there\n",
    "-- filter by date in 2019\n",
    "-- group by app_id\n",
    "\n",
    "SELECT COUNT(event_id)\n",
    "  FROM events \n",
    "  GROUP BY app_id\n",
    "  HAVING event_id = 'click'\n",
    "     AND timestamp BETWEEN 2019-01-01 AND 2019-12-31\n",
    "\n",
    "-- put it together: get the rate of clicks per event\n",
    "\n",
    "SELECT app_id, \n",
    "       (\n",
    "        COUNT(event_id) / (\n",
    "                            SELECT COUNT(event_id)\n",
    "                                FROM events\n",
    "                                GROUP BY app_id\n",
    "                                HAVING event_id = 'impression'\n",
    "                                    AND timestamp BETWEEN 2019-01-01 AND 2019-12-31\n",
    "                            )\n",
    "        )\n",
    "  FROM events \n",
    "  GROUP BY app_id\n",
    "  HAVING event_id = 'click'\n",
    "     AND timestamp BETWEEN 2019-01-01 AND 2019-12-31;"
   ]
  },
  {
   "cell_type": "code",
   "execution_count": null,
   "metadata": {
    "vscode": {
     "languageId": "sql"
    }
   },
   "outputs": [],
   "source": [
    "-------------------\n",
    "-- BOOK SOLUTION --\n",
    "-------------------\n",
    "\n",
    "SELECT \n",
    "  app_id,\n",
    "  SUM(IF(event_id = 'click', 1, 0)) / SUM(IF(event_id = 'impression', 1, 0))\n",
    "    AS ctr\n",
    "FROM \n",
    "  events \n",
    "WHERE \n",
    "  timestamp >= '2019-01-01'\n",
    "  AND timestamp <= '2020-01-01'\n",
    "GROUP BY \n",
    "  1\n",
    "  "
   ]
  },
  {
   "cell_type": "markdown",
   "metadata": {},
   "source": [
    "8.2 ROBINHOOD Assume you are given the tables below containing information on trades and users. Write a query to list the top three cities that had the most number of completed orders. \n",
    "\n",
    "trades:\n",
    "|column_name|type|\n",
    "|-----------|----|\n",
    "| order_id | integer|\n",
    "|user_id|integer|\n",
    "|price|float|\n",
    "|quantity|integer|\n",
    "|status|string('complete, cancelled')|\n",
    "|timestamp|datetime|\n",
    "\n",
    "users:\n",
    "|column_name|type|\n",
    "|---|----|\n",
    "|user_id|integer|\n",
    "|city|string|\n",
    "|email|string|\n",
    "|signup_date| datetime|\n"
   ]
  },
  {
   "cell_type": "code",
   "execution_count": null,
   "metadata": {
    "vscode": {
     "languageId": "sql"
    }
   },
   "outputs": [],
   "source": [
    "-----------------\n",
    "-- MY SOLUTION --\n",
    "-----------------\n",
    "\n",
    "SELECT u.city, COUNT(t.order_id) AS n_orders\n",
    "  FROM trades t\n",
    "    JOIN users u USING(user_id)\n",
    "  WHERE t.status = 'complete'\n",
    "  GROUP BY u.city\n",
    "  ORDER BY n_orders DESC\n",
    "  LIMIT 3;\n",
    "  \n"
   ]
  }
 ],
 "metadata": {
  "language_info": {
   "name": "python"
  },
  "orig_nbformat": 4
 },
 "nbformat": 4,
 "nbformat_minor": 2
}
