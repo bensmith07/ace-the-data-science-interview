{
 "cells": [
  {
   "cell_type": "markdown",
   "metadata": {},
   "source": [
    "8.1 FACEBOOK: Assume you have the below events table on app analytics. Write a query to get the clickthrough rate per app in 2019.\n",
    "\n",
    "events:\n",
    "| column_name | type |\n",
    "|-------------|------|\n",
    "| app_id | integer|\n",
    "| event_id | string('impression', 'click') |\n",
    "| timestamp | datetime |"
   ]
  },
  {
   "cell_type": "code",
   "execution_count": null,
   "metadata": {
    "vscode": {
     "languageId": "sql"
    }
   },
   "outputs": [],
   "source": [
    "-----------------\n",
    "-- MY SOLUTION --\n",
    "-----------------\n",
    "\n",
    "-- first question: how many impressions were there\n",
    "-- filter by date in 2019\n",
    "-- group by app_id\n",
    "\n",
    "SELECT COUNT(event_id)\n",
    "  FROM events\n",
    "  GROUP BY app_id\n",
    "  HAVING event_id = 'impression'\n",
    "     AND timestamp BETWEEN 2019-01-01 AND 2019-12-31\n",
    "\n",
    "-- second quetion: how many clicks were there\n",
    "-- filter by date in 2019\n",
    "-- group by app_id\n",
    "\n",
    "SELECT COUNT(event_id)\n",
    "  FROM events \n",
    "  GROUP BY app_id\n",
    "  HAVING event_id = 'click'\n",
    "     AND timestamp BETWEEN 2019-01-01 AND 2019-12-31\n",
    "\n",
    "-- put it together: get the rate of clicks per event\n",
    "\n",
    "SELECT app_id, \n",
    "       (\n",
    "        COUNT(event_id) / (\n",
    "                            SELECT COUNT(event_id)\n",
    "                                FROM events\n",
    "                                GROUP BY app_id\n",
    "                                HAVING event_id = 'impression'\n",
    "                                    AND timestamp BETWEEN '2019-01-01' AND '2019-12-31'\n",
    "                            )\n",
    "        )\n",
    "  FROM events \n",
    "  GROUP BY app_id\n",
    "  HAVING event_id = 'click'\n",
    "     AND timestamp BETWEEN '2019-01-01' AND '2019-12-31';\n",
    "\n",
    "-- this solution did not work because the subqueries\n",
    "-- result in more than one row (because there is more than one app_id).  \n",
    "-- you can't divide by multiple rows at the same time like you might be able to in a pandas\n",
    "-- df. "
   ]
  },
  {
   "cell_type": "code",
   "execution_count": null,
   "metadata": {
    "vscode": {
     "languageId": "sql"
    }
   },
   "outputs": [],
   "source": [
    "-------------------\n",
    "-- BOOK SOLUTION --\n",
    "-------------------\n",
    "\n",
    "SELECT \n",
    "  app_id,\n",
    "  SUM(IF(event_id = 'click', 1, 0)) / SUM(IF(event_id = 'impression', 1, 0))\n",
    "    AS ctr\n",
    "FROM \n",
    "  events \n",
    "WHERE \n",
    "  timestamp >= '2019-01-01'\n",
    "  AND timestamp <= '2020-01-01'\n",
    "GROUP BY \n",
    "  1 -- (this groups by the first column in the SELECT list, equivalent to `GROUP BY app_id`\n",
    "  "
   ]
  },
  {
   "cell_type": "markdown",
   "metadata": {},
   "source": [
    "8.2 ROBINHOOD Assume you are given the tables below containing information on trades and users. Write a query to list the top three cities that had the most number of completed orders. \n",
    "\n",
    "trades:\n",
    "|column_name|type|\n",
    "|-----------|----|\n",
    "| order_id | integer|\n",
    "|user_id|integer|\n",
    "|price|float|\n",
    "|quantity|integer|\n",
    "|status|string('complete, cancelled')|\n",
    "|timestamp|datetime|\n",
    "\n",
    "users:\n",
    "|column_name|type|\n",
    "|---|----|\n",
    "|user_id|integer|\n",
    "|city|string|\n",
    "|email|string|\n",
    "|signup_date| datetime|\n"
   ]
  },
  {
   "cell_type": "code",
   "execution_count": null,
   "metadata": {
    "vscode": {
     "languageId": "sql"
    }
   },
   "outputs": [],
   "source": [
    "-----------------\n",
    "-- MY SOLUTION --\n",
    "-----------------\n",
    "\n",
    "SELECT u.city, COUNT(DISTINCT t.order_id) AS n_orders\n",
    "  FROM trades t\n",
    "    JOIN users u USING(user_id)\n",
    "  WHERE t.status = 'complete'\n",
    "  GROUP BY u.city\n",
    "  ORDER BY n_orders DESC\n",
    "  LIMIT 3;"
   ]
  },
  {
   "cell_type": "code",
   "execution_count": null,
   "metadata": {
    "vscode": {
     "languageId": "sql"
    }
   },
   "outputs": [],
   "source": [
    "-------------------\n",
    "-- BOOK SOLUTION --\n",
    "-------------------\n",
    "\n",
    "SELECT \n",
    "  u.city, \n",
    "  COUNT(DISTINCT t.order_id) AS num_orders\n",
    "FROM \n",
    "  trades t\n",
    "  JOIN users u ON t.user_id = u.user_id\n",
    "WHERE \n",
    "  t.status = 'complete'\n",
    "GROUP BY \n",
    "  city\n",
    "ORDER BY \n",
    "  num_orders DESC\n",
    "LIMIT \n",
    "  3"
   ]
  },
  {
   "cell_type": "markdown",
   "metadata": {},
   "source": [
    "8.3 NEW YORK TIMES: Assume that you are given the table below containing information on viewership by device type (where the three types are laptop tablet, and phone). Define \"mobile\" as the sum of tablet and phone viewership numbers. Write a query to compare the viewership on laptops versus mobile devices. \n",
    "\n",
    "viewership:\n",
    "| column_name | type |\n",
    "|-------------|------|\n",
    "|user_id|integer|\n",
    "|device_type| string ('laptop', 'tablet', 'phone')|\n",
    "|view_time | datetime|"
   ]
  },
  {
   "cell_type": "code",
   "execution_count": null,
   "metadata": {
    "vscode": {
     "languageId": "sql"
    }
   },
   "outputs": [],
   "source": [
    "---------------\n",
    "-- SOLUTION --\n",
    "--------------\n",
    "\n",
    "SELECT \n",
    "  SUM(IF(device_type IN ('phone', 'tablet'), 1, 0)) as mobile_views,\n",
    "  SUM(IF(device_type = 'laptop', 1, 0)) as laptop_views\n",
    "FROM \n",
    "  viewership;"
   ]
  },
  {
   "cell_type": "markdown",
   "metadata": {},
   "source": [
    "8.4 AMAZON: Assume you are given the table below for spending activity by product type. Write a query to calculate the cumulative spend so far by date for each product over time in chronological order. \n",
    "\n",
    "total_trans:\n",
    "|column_name|type|\n",
    "|-----------|----|\n",
    "|order_id|integer|\n",
    "|user_id|integer|\n",
    "|product_id|string|\n",
    "|spend|float|\n",
    "|trans_date|datetime|"
   ]
  },
  {
   "cell_type": "markdown",
   "metadata": {},
   "source": []
  }
 ],
 "metadata": {
  "language_info": {
   "name": "python"
  },
  "orig_nbformat": 4
 },
 "nbformat": 4,
 "nbformat_minor": 2
}
