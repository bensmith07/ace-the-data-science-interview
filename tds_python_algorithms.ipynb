{
 "cells": [
  {
   "cell_type": "markdown",
   "metadata": {},
   "source": [
    "#### These problems are taken from this article: \n",
    "https://towardsdatascience.com/10-algorithms-to-solve-before-your-python-coding-interview-feb74fb9bc27"
   ]
  },
  {
   "cell_type": "markdown",
   "metadata": {},
   "source": [
    "1. Given an integer, return the inteer with reversed digits. Note, the integer could be positive or negative. "
   ]
  },
  {
   "cell_type": "code",
   "execution_count": 5,
   "metadata": {},
   "outputs": [
    {
     "data": {
      "text/plain": [
       "int"
      ]
     },
     "execution_count": 5,
     "metadata": {},
     "output_type": "execute_result"
    }
   ],
   "source": [
    "def reverse_integer(num):\n",
    "    if num < 0:\n",
    "        num = str(abs(num))\n",
    "        return int('-' + num[::-1])\n",
    "    else:\n",
    "        num = str(num)\n",
    "        return int(num[::-1])"
   ]
  },
  {
   "cell_type": "markdown",
   "metadata": {},
   "source": [
    "2. For a given sentence, return the average word length"
   ]
  },
  {
   "cell_type": "code",
   "execution_count": 21,
   "metadata": {},
   "outputs": [
    {
     "data": {
      "text/plain": [
       "(42, 53)"
      ]
     },
     "execution_count": 21,
     "metadata": {},
     "output_type": "execute_result"
    }
   ],
   "source": [
    "sentence1 = \"Hi all, my name is Tom...I am originally from Australia.\"\n",
    "sentence2 = \"I need to work very hard to learn more about algorithms in Python!\"\n",
    "\n",
    "def avg_word_length(sentence):\n",
    "\n",
    "    import statistics as stats\n",
    "\n",
    "    # remove punctuation\n",
    "    for char in sentence:\n",
    "        if not char.isalpha():\n",
    "            sentence = sentence.replace(char, '')\n",
    "    \n",
    "    # split string into list of words\n",
    "    sentence = sentence.split()\n",
    "            \n",
    "    # get length of each word\n",
    "    lengths = [len(word) for word in sentence]\n",
    "\n",
    "    # get average length\n",
    "    return stats.mean(lengths)\n",
    "\n",
    "avg_word_length(sentence1), avg_word_length(sentence2)\n"
   ]
  },
  {
   "cell_type": "markdown",
   "metadata": {},
   "source": [
    "3. Given two non-negative integers num1 and num2 represented as string, return the sum of num1 and num2.\n",
    "You must not use any built-in BigInteger library or convert the inputs to integer directly.\n",
    "\n",
    "- Notes:\n",
    "Both num1 and num2 contain only digits 0-9.\n",
    "Both num1 and num2 do not contain any leading zero."
   ]
  },
  {
   "cell_type": "markdown",
   "metadata": {},
   "source": [
    "4. First Unique Character\n",
    "\n",
    "- Given a string, find the first non-repeating character in it and return its index. \n",
    "If it doesn't exist, return -1. Note: all the input strings are already lowercase. "
   ]
  },
  {
   "cell_type": "code",
   "execution_count": 28,
   "metadata": {},
   "outputs": [
    {
     "name": "stdout",
     "output_type": "stream",
     "text": [
      "1\n",
      "2\n",
      "1\n"
     ]
    }
   ],
   "source": [
    "def first_non_repeating_char(string):\n",
    "    for i in range(len(string)):\n",
    "        if string[i] not in string[i+1:]:\n",
    "            return i\n",
    "    return -1\n",
    "\n",
    "print(first_non_repeating_char('alphabet'))\n",
    "print(first_non_repeating_char('barbados'))\n",
    "print(first_non_repeating_char('crunchy'))"
   ]
  },
  {
   "cell_type": "markdown",
   "metadata": {},
   "source": [
    "5. Valid Palindrome\n",
    "- determine if a string is the same as it's reversed counterpart"
   ]
  },
  {
   "cell_type": "code",
   "execution_count": 29,
   "metadata": {},
   "outputs": [
    {
     "name": "stdout",
     "output_type": "stream",
     "text": [
      "True\n",
      "False\n",
      "True\n",
      "False\n"
     ]
    }
   ],
   "source": [
    "def valid_palindrome(string):\n",
    "    return string == string[::-1]\n",
    "\n",
    "print(valid_palindrome('racecar'))\n",
    "print(valid_palindrome('racecars'))\n",
    "print(valid_palindrome('deified'))\n",
    "print(valid_palindrome('deifyied'))"
   ]
  },
  {
   "cell_type": "markdown",
   "metadata": {},
   "source": [
    "- now determine if a string can be turned into a palindrome by removing only one character"
   ]
  },
  {
   "cell_type": "code",
   "execution_count": 37,
   "metadata": {},
   "outputs": [
    {
     "name": "stdout",
     "output_type": "stream",
     "text": [
      "True\n",
      "True\n",
      "True\n",
      "True\n"
     ]
    }
   ],
   "source": [
    "def valid_palindrome_2(string):\n",
    "    for i, char in enumerate(string):\n",
    "        string2 = string[:i] + string [i+1:]\n",
    "        if string2 == string2[::-1]:\n",
    "            return True\n",
    "    return False\n",
    "\n",
    "print(valid_palindrome_2('racecar'))\n",
    "print(valid_palindrome_2('racecars'))\n",
    "print(valid_palindrome_2('deified'))\n",
    "print(valid_palindrome_2('deifyied'))"
   ]
  },
  {
   "cell_type": "code",
   "execution_count": null,
   "metadata": {},
   "outputs": [],
   "source": []
  }
 ],
 "metadata": {
  "kernelspec": {
   "display_name": "Python 3.9.7 ('base')",
   "language": "python",
   "name": "python3"
  },
  "language_info": {
   "codemirror_mode": {
    "name": "ipython",
    "version": 3
   },
   "file_extension": ".py",
   "mimetype": "text/x-python",
   "name": "python",
   "nbconvert_exporter": "python",
   "pygments_lexer": "ipython3",
   "version": "3.9.7"
  },
  "orig_nbformat": 4,
  "vscode": {
   "interpreter": {
    "hash": "38cca0c38332a56087b24af0bc80247f4fced29cb4f7f437d91dc159adec9c4e"
   }
  }
 },
 "nbformat": 4,
 "nbformat_minor": 2
}
