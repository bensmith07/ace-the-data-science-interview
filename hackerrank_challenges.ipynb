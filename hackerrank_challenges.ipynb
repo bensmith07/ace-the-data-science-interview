{
 "cells": [
  {
   "cell_type": "markdown",
   "metadata": {},
   "source": [
    "Given an array of integers, calculate the ratios of its elements that are positive, negative, and zero. Print the decimal value of each fraction on a new line with places after the decimal."
   ]
  },
  {
   "cell_type": "code",
   "execution_count": 2,
   "metadata": {},
   "outputs": [],
   "source": [
    "def plusMinus(arr):\n",
    "    \n",
    "    positives = 0\n",
    "    negatives = 0\n",
    "    zeros = 0\n",
    "    \n",
    "    for elem in arr:\n",
    "        if elem == 0:\n",
    "            zeros += 1\n",
    "        elif elem > 0:\n",
    "            positives += 1\n",
    "        else:\n",
    "            negatives += 1\n",
    "    \n",
    "    print(round(positives / len(arr), 6))\n",
    "    print(round(negatives / len(arr), 6))\n",
    "    print(round(zeros / len(arr), 6))"
   ]
  },
  {
   "cell_type": "markdown",
   "metadata": {},
   "source": [
    "Given five positive integers, find the minimum and maximum values that can be calculated by summing exactly four of the five integers. Then print the respective minimum and maximum values as a single line of two space-separated long integers. "
   ]
  },
  {
   "cell_type": "code",
   "execution_count": 1,
   "metadata": {},
   "outputs": [],
   "source": [
    "def miniMaxSum(arr):\n",
    "    sums = []\n",
    "    sums.append(arr[0] + arr[1] + arr[2] + arr[3])\n",
    "    sums.append(arr[1] + arr[2] + arr[3] + arr[4])\n",
    "    sums.append(arr[2] + arr[3] + arr[4] + arr[0])\n",
    "    sums.append(arr[3] + arr[4] + arr[0] + arr[1])\n",
    "    sums.append(arr[4] + arr[0] + arr[1] + arr[2])\n",
    "    print(min(sums), max(sums))"
   ]
  },
  {
   "cell_type": "markdown",
   "metadata": {},
   "source": [
    "Given a time in 12-hour AM/PM format, convert it to military (24-hour) time.\n",
    "\n",
    "Note: \n",
    "- 12:00:00AM on a 12-hour clock is 00:00:00 on a 24-hour clock.\n",
    "- 12:00:00PM on a 12-hour clock is 12:00:00 on a 24-hour clock. "
   ]
  },
  {
   "cell_type": "code",
   "execution_count": 7,
   "metadata": {},
   "outputs": [
    {
     "data": {
      "text/plain": [
       "'12:00:00'"
      ]
     },
     "execution_count": 7,
     "metadata": {},
     "output_type": "execute_result"
    }
   ],
   "source": [
    "def timeConversion(s):\n",
    "    # if 12 AM\n",
    "    if s[0:2] == '12' and s[-2:] == 'AM':\n",
    "        s = '00' + s[2:-2]\n",
    "    # if other AM\n",
    "    elif s[-2:] == 'AM':\n",
    "        s = s[:-2]\n",
    "    # if 12 PM\n",
    "    elif s[0:2] == '12' and s[-2:] == 'PM':\n",
    "        s = s[:-2]\n",
    "    # if other PM\n",
    "    else:\n",
    "        s = str(int(s[0:2]) + 12) + s[2:-2]\n",
    "        \n",
    "    return s\n",
    "\n",
    "timeConversion('12:00:00PM')"
   ]
  },
  {
   "cell_type": "code",
   "execution_count": 8,
   "metadata": {},
   "outputs": [
    {
     "data": {
      "text/plain": [
       "[1, 2, 3, 4, 5]"
      ]
     },
     "execution_count": 8,
     "metadata": {},
     "output_type": "execute_result"
    }
   ],
   "source": [
    "arr = [5, 3, 2, 4, 1]\n",
    "sorted(arr)"
   ]
  },
  {
   "cell_type": "code",
   "execution_count": 15,
   "metadata": {},
   "outputs": [
    {
     "data": {
      "text/plain": [
       "2.5"
      ]
     },
     "execution_count": 15,
     "metadata": {},
     "output_type": "execute_result"
    }
   ],
   "source": [
    "def findMedian(arr):\n",
    "    # Write your code here\n",
    "    arr = sorted(arr)\n",
    "    if len(arr) % 2 != 0:\n",
    "        idx = int(len(arr) / 2)\n",
    "        median = arr[idx]\n",
    "    else:\n",
    "        idx1 = int(len(arr) / 2) - 1\n",
    "        idx2 = idx1 + 1\n",
    "        median = (arr[idx1] + arr[idx2]) / 2\n",
    "\n",
    "    return median \n",
    "\n",
    "findMedian([4, 3, 2, 1])"
   ]
  },
  {
   "cell_type": "markdown",
   "metadata": {},
   "source": [
    "Given an array of integers, where all elements but one occur twice, find the unique element. "
   ]
  },
  {
   "cell_type": "code",
   "execution_count": 19,
   "metadata": {},
   "outputs": [
    {
     "data": {
      "text/plain": [
       "4"
      ]
     },
     "execution_count": 19,
     "metadata": {},
     "output_type": "execute_result"
    }
   ],
   "source": [
    "def lonelyinteger(a):\n",
    "    for i in range(len(a)):\n",
    "        if a[i] not in a[0:i] + a[i+1:]:\n",
    "            return a[i]\n",
    "\n",
    "lonelyinteger([1,2,3,3,2,1,4])"
   ]
  },
  {
   "cell_type": "markdown",
   "metadata": {},
   "source": [
    "Given a square matrix, calculate the absolute difference between the sums of its diagonals. "
   ]
  },
  {
   "cell_type": "code",
   "execution_count": 58,
   "metadata": {},
   "outputs": [
    {
     "data": {
      "text/plain": [
       "4"
      ]
     },
     "execution_count": 58,
     "metadata": {},
     "output_type": "execute_result"
    }
   ],
   "source": [
    "def diagonalDifference(arr):\n",
    "\n",
    "    left_diag = []\n",
    "    left_diag = [arr[i][i] for i in range(len(arr))]\n",
    "\n",
    "    right_diag = []\n",
    "    for i, j in enumerate(range(len(arr) - 1, -1, -1)):\n",
    "        right_diag.append(arr[i][j])\n",
    "\n",
    "    return abs(sum(left_diag) - sum(right_diag))\n",
    "\n",
    "arr = [[1, 0, 6],\n",
    "        [0, 3, 0],\n",
    "        [4, 0, 5]]\n",
    "\n",
    "diagonalDifference(arr)"
   ]
  },
  {
   "cell_type": "markdown",
   "metadata": {},
   "source": [
    "Given a list of integers, count and return the number of times each value appears as an array of integers."
   ]
  },
  {
   "cell_type": "code",
   "execution_count": 71,
   "metadata": {},
   "outputs": [],
   "source": [
    "def countingSort(arr):\n",
    "    counts = []\n",
    "    for i in range(max(arr) + 1):\n",
    "        counter = 0\n",
    "        for elem in arr:\n",
    "            if elem == i:\n",
    "                counter+= 1\n",
    "        counts.append(counter)\n",
    "\n",
    "    return counts"
   ]
  },
  {
   "cell_type": "code",
   "execution_count": null,
   "metadata": {},
   "outputs": [],
   "source": []
  }
 ],
 "metadata": {
  "kernelspec": {
   "display_name": "Python 3.9.7 ('base')",
   "language": "python",
   "name": "python3"
  },
  "language_info": {
   "codemirror_mode": {
    "name": "ipython",
    "version": 3
   },
   "file_extension": ".py",
   "mimetype": "text/x-python",
   "name": "python",
   "nbconvert_exporter": "python",
   "pygments_lexer": "ipython3",
   "version": "3.9.7"
  },
  "orig_nbformat": 4,
  "vscode": {
   "interpreter": {
    "hash": "38cca0c38332a56087b24af0bc80247f4fced29cb4f7f437d91dc159adec9c4e"
   }
  }
 },
 "nbformat": 4,
 "nbformat_minor": 2
}
